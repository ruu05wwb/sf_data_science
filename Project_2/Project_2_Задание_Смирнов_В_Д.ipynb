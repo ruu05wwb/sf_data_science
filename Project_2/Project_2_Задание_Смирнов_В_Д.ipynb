{
 "cells": [
  {
   "cell_type": "markdown",
   "id": "42289889-bd57-434e-9637-d3e354756316",
   "metadata": {
    "id": "42289889-bd57-434e-9637-d3e354756316"
   },
   "source": [
    "<center> <img src = https://raw.githubusercontent.com/AndreyRysistov/DatasetsForPandas/main/hh%20label.jpg alt=\"drawing\" style=\"width:400px;\">"
   ]
  },
  {
   "cell_type": "markdown",
   "id": "829cb75b-f14e-4ba8-9195-7ba929a7d656",
   "metadata": {
    "id": "829cb75b-f14e-4ba8-9195-7ba929a7d656",
    "tags": []
   },
   "source": [
    "# <center> Проект: Анализ вакансий из HeadHunter\n",
    "   "
   ]
  },
  {
   "cell_type": "code",
   "execution_count": 1,
   "id": "dccfde33-2452-43fb-a8a5-5c6ebc02a71d",
   "metadata": {
    "id": "dccfde33-2452-43fb-a8a5-5c6ebc02a71d"
   },
   "outputs": [],
   "source": [
    "import pandas as pd\n",
    "import psycopg2\n",
    "import sqlalchemy\n",
    "import plotly.express as px\n",
    "import yaml\n",
    "from urllib.parse import quote_plus"
   ]
  },
  {
   "cell_type": "code",
   "execution_count": 2,
   "id": "ed57f0e7",
   "metadata": {},
   "outputs": [],
   "source": [
    "with open('config.yaml') as f:\n",
    "    conn_param = yaml.safe_load(f)"
   ]
  },
  {
   "cell_type": "code",
   "execution_count": 3,
   "id": "51f2e708",
   "metadata": {},
   "outputs": [],
   "source": [
    "url = 'postgresql+psycopg2://{username}:{password}@{host}:{port}/{database}'. \\\n",
    "format(username = conn_param[\"USER\"],\n",
    "       password = conn_param[\"PASSWORD\"],\n",
    "       host = conn_param[\"HOST\"],\n",
    "       port = conn_param[\"PORT\"],\n",
    "       database = conn_param[\"DBNAME\"])\n",
    "engine = sqlalchemy.create_engine(url)\n",
    "connection = engine.connect()"
   ]
  },
  {
   "cell_type": "markdown",
   "id": "0dc6476b-7a00-44f1-ac93-6e3baed33a29",
   "metadata": {
    "id": "0dc6476b-7a00-44f1-ac93-6e3baed33a29"
   },
   "source": [
    "# Юнит 3. Предварительный анализ данных"
   ]
  },
  {
   "cell_type": "markdown",
   "id": "889782b6-8d1c-410e-8920-e57f27917c64",
   "metadata": {
    "id": "889782b6-8d1c-410e-8920-e57f27917c64"
   },
   "source": [
    "1. Напишите запрос, который посчитает количество вакансий в нашей базе (вакансии находятся в таблице vacancies). "
   ]
  },
  {
   "cell_type": "code",
   "execution_count": 4,
   "id": "bc39e68e-ed02-4ee2-9235-7258a2f867a8",
   "metadata": {
    "id": "bc39e68e-ed02-4ee2-9235-7258a2f867a8"
   },
   "outputs": [],
   "source": [
    "# текст запроса\n",
    "query = f'''SELECT COUNT(id) AS vacancies_cnt\n",
    "            FROM public.vacancies\n",
    "         '''\n",
    "\n",
    "df = pd.read_sql_query(query, connection)"
   ]
  },
  {
   "cell_type": "code",
   "execution_count": 5,
   "id": "a3d75a52",
   "metadata": {
    "scrolled": false
   },
   "outputs": [
    {
     "name": "stdout",
     "output_type": "stream",
     "text": [
      "Количество вакансий в базе: 49197\n"
     ]
    }
   ],
   "source": [
    "# результат запроса\n",
    "print('Количество вакансий в базе:', df['vacancies_cnt'][0])"
   ]
  },
  {
   "cell_type": "markdown",
   "id": "b583485d-1f9e-494e-ada4-80ffff7c53d6",
   "metadata": {
    "id": "b583485d-1f9e-494e-ada4-80ffff7c53d6"
   },
   "source": [
    "2. Напишите запрос, который посчитает количество работодателей (таблица employers). "
   ]
  },
  {
   "cell_type": "code",
   "execution_count": 6,
   "id": "5408c52c-3407-4a63-b25b-1aafa2322d28",
   "metadata": {
    "id": "5408c52c-3407-4a63-b25b-1aafa2322d28"
   },
   "outputs": [],
   "source": [
    "# текст запроса\n",
    "query = f'''SELECT COUNT(id) AS employers_cnt\n",
    "            FROM public.employers\n",
    "         '''\n",
    "\n",
    "df = pd.read_sql_query(query, connection)"
   ]
  },
  {
   "cell_type": "code",
   "execution_count": 7,
   "id": "jVL4eshKhdqc",
   "metadata": {
    "id": "jVL4eshKhdqc"
   },
   "outputs": [
    {
     "name": "stdout",
     "output_type": "stream",
     "text": [
      "Количество работодателей в базе: 23501\n"
     ]
    }
   ],
   "source": [
    "# результат запроса\n",
    "print('Количество работодателей в базе:', df['employers_cnt'][0])"
   ]
  },
  {
   "cell_type": "markdown",
   "id": "a2bfff1f-c975-4bf6-84be-2185d79dcb76",
   "metadata": {
    "id": "a2bfff1f-c975-4bf6-84be-2185d79dcb76"
   },
   "source": [
    "3. Посчитате с помощью запроса количество регионов (таблица areas)."
   ]
  },
  {
   "cell_type": "code",
   "execution_count": 8,
   "id": "1m8QJwBYhey6",
   "metadata": {
    "id": "1m8QJwBYhey6"
   },
   "outputs": [],
   "source": [
    "# текст запроса\n",
    "query = f'''SELECT COUNT(id) AS regions_cnt\n",
    "            FROM public.areas\n",
    "         '''\n",
    "\n",
    "df = pd.read_sql_query(query, connection)"
   ]
  },
  {
   "cell_type": "code",
   "execution_count": 9,
   "id": "EZsn9tlfhe7f",
   "metadata": {
    "id": "EZsn9tlfhe7f"
   },
   "outputs": [
    {
     "name": "stdout",
     "output_type": "stream",
     "text": [
      "Количество регионов в базе: 1362\n"
     ]
    }
   ],
   "source": [
    "# результат запроса\n",
    "print('Количество регионов в базе:', df['regions_cnt'][0])"
   ]
  },
  {
   "cell_type": "markdown",
   "id": "41bb59f3-53cc-4a67-a5bc-bedf573955e4",
   "metadata": {
    "id": "41bb59f3-53cc-4a67-a5bc-bedf573955e4"
   },
   "source": [
    "4. Посчитате с помощью запроса количество сфер деятельности в базе (таблица industries)."
   ]
  },
  {
   "cell_type": "code",
   "execution_count": 10,
   "id": "d286cf4c-707b-4cd2-9190-7ab3587d04a1",
   "metadata": {
    "id": "d286cf4c-707b-4cd2-9190-7ab3587d04a1"
   },
   "outputs": [],
   "source": [
    "# текст запроса\n",
    "query = f'''SELECT COUNT(id) AS industries_cnt\n",
    "            FROM public.industries\n",
    "         '''\n",
    "\n",
    "df = pd.read_sql_query(query, connection)"
   ]
  },
  {
   "cell_type": "code",
   "execution_count": 11,
   "id": "JYAaoZ4qhfzW",
   "metadata": {
    "id": "JYAaoZ4qhfzW"
   },
   "outputs": [
    {
     "name": "stdout",
     "output_type": "stream",
     "text": [
      "Количество сфер деятельности в базе: 294\n"
     ]
    }
   ],
   "source": [
    "# результат запроса\n",
    "print('Количество сфер деятельности в базе:', df['industries_cnt'][0])"
   ]
  },
  {
   "cell_type": "markdown",
   "id": "9a8a2181-6914-448b-85f1-38f5f18b8a93",
   "metadata": {
    "id": "9a8a2181-6914-448b-85f1-38f5f18b8a93"
   },
   "source": [
    "***"
   ]
  },
  {
   "cell_type": "markdown",
   "id": "f25d7f01",
   "metadata": {
    "id": "be4e9bd3-a4db-4a20-82fb-6b02fc2957e0"
   },
   "source": [
    "*База содержит достаточно большой объем информации для анализа, почти 50 тысяч вакансий из более чем 1000 регионов, представлено около 300 различных сфер деятельности. В среднем размещено примерно по 2 вакансии от каждого работодателя.*"
   ]
  },
  {
   "cell_type": "markdown",
   "id": "8d62a9f3-f64e-4fe7-bdac-c4dffa16155e",
   "metadata": {
    "id": "8d62a9f3-f64e-4fe7-bdac-c4dffa16155e"
   },
   "source": [
    "# Юнит 4. Детальный анализ вакансий"
   ]
  },
  {
   "cell_type": "markdown",
   "id": "93053d3d-b284-481a-9cf7-012d7014c0e0",
   "metadata": {
    "id": "93053d3d-b284-481a-9cf7-012d7014c0e0"
   },
   "source": [
    "1. Напишите запрос, который позволит узнать, сколько (cnt) вакансий в каждом регионе (area).\n",
    "Отсортируйте по количеству вакансий в порядке убывания."
   ]
  },
  {
   "cell_type": "code",
   "execution_count": 12,
   "id": "3f069da6-fdc9-4ae7-b514-fafe2675efd3",
   "metadata": {
    "id": "3f069da6-fdc9-4ae7-b514-fafe2675efd3"
   },
   "outputs": [],
   "source": [
    "# текст запроса\n",
    "query = f'''SELECT areas.name as area,\n",
    "              COUNT(vacancies.id) as cnt\n",
    "            FROM public.areas areas\n",
    "            LEFT JOIN public.vacancies vacancies\n",
    "            ON areas.id = vacancies.area_id\n",
    "            GROUP BY areas.name\n",
    "            ORDER BY 2 DESC\n",
    "         '''\n",
    "\n",
    "df = pd.read_sql_query(query, connection)"
   ]
  },
  {
   "cell_type": "code",
   "execution_count": 13,
   "id": "P7QL86hrjhRJ",
   "metadata": {
    "id": "P7QL86hrjhRJ"
   },
   "outputs": [
    {
     "data": {
      "text/html": [
       "<div>\n",
       "<style scoped>\n",
       "    .dataframe tbody tr th:only-of-type {\n",
       "        vertical-align: middle;\n",
       "    }\n",
       "\n",
       "    .dataframe tbody tr th {\n",
       "        vertical-align: top;\n",
       "    }\n",
       "\n",
       "    .dataframe thead th {\n",
       "        text-align: right;\n",
       "    }\n",
       "</style>\n",
       "<table border=\"1\" class=\"dataframe\">\n",
       "  <thead>\n",
       "    <tr style=\"text-align: right;\">\n",
       "      <th></th>\n",
       "      <th>area</th>\n",
       "      <th>cnt</th>\n",
       "    </tr>\n",
       "  </thead>\n",
       "  <tbody>\n",
       "    <tr>\n",
       "      <th>0</th>\n",
       "      <td>Москва</td>\n",
       "      <td>5333</td>\n",
       "    </tr>\n",
       "    <tr>\n",
       "      <th>1</th>\n",
       "      <td>Санкт-Петербург</td>\n",
       "      <td>2851</td>\n",
       "    </tr>\n",
       "    <tr>\n",
       "      <th>2</th>\n",
       "      <td>Минск</td>\n",
       "      <td>2112</td>\n",
       "    </tr>\n",
       "    <tr>\n",
       "      <th>3</th>\n",
       "      <td>Новосибирск</td>\n",
       "      <td>2006</td>\n",
       "    </tr>\n",
       "    <tr>\n",
       "      <th>4</th>\n",
       "      <td>Алматы</td>\n",
       "      <td>1892</td>\n",
       "    </tr>\n",
       "    <tr>\n",
       "      <th>...</th>\n",
       "      <td>...</td>\n",
       "      <td>...</td>\n",
       "    </tr>\n",
       "    <tr>\n",
       "      <th>1357</th>\n",
       "      <td>Багаевская</td>\n",
       "      <td>0</td>\n",
       "    </tr>\n",
       "    <tr>\n",
       "      <th>1358</th>\n",
       "      <td>Пролетарск</td>\n",
       "      <td>0</td>\n",
       "    </tr>\n",
       "    <tr>\n",
       "      <th>1359</th>\n",
       "      <td>Седельниково</td>\n",
       "      <td>0</td>\n",
       "    </tr>\n",
       "    <tr>\n",
       "      <th>1360</th>\n",
       "      <td>Инской</td>\n",
       "      <td>0</td>\n",
       "    </tr>\n",
       "    <tr>\n",
       "      <th>1361</th>\n",
       "      <td>Белоярский (Свердловская область)</td>\n",
       "      <td>0</td>\n",
       "    </tr>\n",
       "  </tbody>\n",
       "</table>\n",
       "<p>1362 rows × 2 columns</p>\n",
       "</div>"
      ],
      "text/plain": [
       "                                   area   cnt\n",
       "0                                Москва  5333\n",
       "1                       Санкт-Петербург  2851\n",
       "2                                 Минск  2112\n",
       "3                           Новосибирск  2006\n",
       "4                                Алматы  1892\n",
       "...                                 ...   ...\n",
       "1357                         Багаевская     0\n",
       "1358                         Пролетарск     0\n",
       "1359                       Седельниково     0\n",
       "1360                             Инской     0\n",
       "1361  Белоярский (Свердловская область)     0\n",
       "\n",
       "[1362 rows x 2 columns]"
      ]
     },
     "execution_count": 13,
     "metadata": {},
     "output_type": "execute_result"
    }
   ],
   "source": [
    "# результат запроса\n",
    "df"
   ]
  },
  {
   "cell_type": "markdown",
   "id": "4266f0b6-1646-492a-88b4-2f6a46502135",
   "metadata": {
    "id": "4266f0b6-1646-492a-88b4-2f6a46502135"
   },
   "source": [
    "2. Напишите запрос, чтобы определить у какого количества вакансий заполнено хотя бы одно из двух полей с зарплатой."
   ]
  },
  {
   "cell_type": "code",
   "execution_count": 14,
   "id": "0c44b350-72eb-4d65-8b54-a1fc449ba9fd",
   "metadata": {
    "id": "0c44b350-72eb-4d65-8b54-a1fc449ba9fd"
   },
   "outputs": [],
   "source": [
    "# текст запроса\n",
    "query = f'''SELECT COUNT(id) AS vacancies_cnt\n",
    "            FROM public.vacancies\n",
    "            WHERE salary_from IS NOT NULL OR salary_to IS NOT NULL\n",
    "         '''\n",
    "\n",
    "df = pd.read_sql_query(query, connection)"
   ]
  },
  {
   "cell_type": "code",
   "execution_count": 15,
   "id": "rhvwaMDkoWTi",
   "metadata": {
    "id": "rhvwaMDkoWTi"
   },
   "outputs": [
    {
     "name": "stdout",
     "output_type": "stream",
     "text": [
      "Количество вакансий с данными о зарплате: 24073\n"
     ]
    }
   ],
   "source": [
    "# результат запроса\n",
    "print('Количество вакансий с данными о зарплате:', df['vacancies_cnt'][0])"
   ]
  },
  {
   "cell_type": "markdown",
   "id": "635c4d5d-f323-4c66-b428-50a088120aa0",
   "metadata": {
    "id": "635c4d5d-f323-4c66-b428-50a088120aa0"
   },
   "source": [
    "3. Найдите средние значения для нижней и верхней границы зарплатной вилки. Округлите значения до целого."
   ]
  },
  {
   "cell_type": "code",
   "execution_count": 16,
   "id": "603cdbe4-0ec3-4106-8eaf-c73fcdd29165",
   "metadata": {
    "id": "603cdbe4-0ec3-4106-8eaf-c73fcdd29165"
   },
   "outputs": [],
   "source": [
    "# текст запроса\n",
    "query = f'''SELECT ROUND(AVG(salary_from), 0) AS avg_salary_from,\n",
    "              ROUND(AVG(salary_to), 0) AS avg_salary_to\n",
    "            FROM public.vacancies\n",
    "         '''\n",
    "\n",
    "df = pd.read_sql_query(query, connection)"
   ]
  },
  {
   "cell_type": "code",
   "execution_count": 17,
   "id": "pswpAb66ovZZ",
   "metadata": {
    "id": "pswpAb66ovZZ"
   },
   "outputs": [
    {
     "name": "stdout",
     "output_type": "stream",
     "text": [
      "Среднее для нижней границы вилки зп: 71065.0\n",
      "Среднее для верхней границы вилки зп: 110537.0\n"
     ]
    }
   ],
   "source": [
    "# результат запроса\n",
    "print('Среднее для нижней границы вилки зп:', df['avg_salary_from'][0])\n",
    "print('Среднее для верхней границы вилки зп:', df['avg_salary_to'][0])"
   ]
  },
  {
   "cell_type": "markdown",
   "id": "f3fdaec9-5fd3-4260-9cf5-1d7406b628a5",
   "metadata": {
    "id": "f3fdaec9-5fd3-4260-9cf5-1d7406b628a5"
   },
   "source": [
    "4. Напишите запрос, который выведет количество вакансий для каждого сочетания типа рабочего графика (schedule) и типа трудоустройства (employment), используемого в вакансиях. Результат отсортируйте по убыванию количества.\n"
   ]
  },
  {
   "cell_type": "code",
   "execution_count": 18,
   "id": "1ea710ec-871b-431e-9462-c7d0fd87011b",
   "metadata": {
    "id": "1ea710ec-871b-431e-9462-c7d0fd87011b"
   },
   "outputs": [],
   "source": [
    "# текст запроса\n",
    "query = f'''SELECT schedule, employment,\n",
    "              COUNT(id) AS vacancies_cnt\n",
    "            FROM public.vacancies\n",
    "            GROUP BY 1, 2\n",
    "            ORDER BY 3 DESC\n",
    "         '''\n",
    "\n",
    "df = pd.read_sql_query(query, connection)"
   ]
  },
  {
   "cell_type": "code",
   "execution_count": 19,
   "id": "lGUVqavdo4JQ",
   "metadata": {
    "id": "lGUVqavdo4JQ"
   },
   "outputs": [
    {
     "data": {
      "text/html": [
       "<div>\n",
       "<style scoped>\n",
       "    .dataframe tbody tr th:only-of-type {\n",
       "        vertical-align: middle;\n",
       "    }\n",
       "\n",
       "    .dataframe tbody tr th {\n",
       "        vertical-align: top;\n",
       "    }\n",
       "\n",
       "    .dataframe thead th {\n",
       "        text-align: right;\n",
       "    }\n",
       "</style>\n",
       "<table border=\"1\" class=\"dataframe\">\n",
       "  <thead>\n",
       "    <tr style=\"text-align: right;\">\n",
       "      <th></th>\n",
       "      <th>schedule</th>\n",
       "      <th>employment</th>\n",
       "      <th>vacancies_cnt</th>\n",
       "    </tr>\n",
       "  </thead>\n",
       "  <tbody>\n",
       "    <tr>\n",
       "      <th>0</th>\n",
       "      <td>Полный день</td>\n",
       "      <td>Полная занятость</td>\n",
       "      <td>35367</td>\n",
       "    </tr>\n",
       "    <tr>\n",
       "      <th>1</th>\n",
       "      <td>Удаленная работа</td>\n",
       "      <td>Полная занятость</td>\n",
       "      <td>7802</td>\n",
       "    </tr>\n",
       "    <tr>\n",
       "      <th>2</th>\n",
       "      <td>Гибкий график</td>\n",
       "      <td>Полная занятость</td>\n",
       "      <td>1593</td>\n",
       "    </tr>\n",
       "    <tr>\n",
       "      <th>3</th>\n",
       "      <td>Удаленная работа</td>\n",
       "      <td>Частичная занятость</td>\n",
       "      <td>1312</td>\n",
       "    </tr>\n",
       "    <tr>\n",
       "      <th>4</th>\n",
       "      <td>Сменный график</td>\n",
       "      <td>Полная занятость</td>\n",
       "      <td>940</td>\n",
       "    </tr>\n",
       "    <tr>\n",
       "      <th>5</th>\n",
       "      <td>Полный день</td>\n",
       "      <td>Стажировка</td>\n",
       "      <td>569</td>\n",
       "    </tr>\n",
       "    <tr>\n",
       "      <th>6</th>\n",
       "      <td>Вахтовый метод</td>\n",
       "      <td>Полная занятость</td>\n",
       "      <td>367</td>\n",
       "    </tr>\n",
       "    <tr>\n",
       "      <th>7</th>\n",
       "      <td>Полный день</td>\n",
       "      <td>Частичная занятость</td>\n",
       "      <td>347</td>\n",
       "    </tr>\n",
       "    <tr>\n",
       "      <th>8</th>\n",
       "      <td>Гибкий график</td>\n",
       "      <td>Частичная занятость</td>\n",
       "      <td>312</td>\n",
       "    </tr>\n",
       "    <tr>\n",
       "      <th>9</th>\n",
       "      <td>Полный день</td>\n",
       "      <td>Проектная работа</td>\n",
       "      <td>141</td>\n",
       "    </tr>\n",
       "    <tr>\n",
       "      <th>10</th>\n",
       "      <td>Удаленная работа</td>\n",
       "      <td>Проектная работа</td>\n",
       "      <td>133</td>\n",
       "    </tr>\n",
       "    <tr>\n",
       "      <th>11</th>\n",
       "      <td>Гибкий график</td>\n",
       "      <td>Стажировка</td>\n",
       "      <td>116</td>\n",
       "    </tr>\n",
       "    <tr>\n",
       "      <th>12</th>\n",
       "      <td>Сменный график</td>\n",
       "      <td>Частичная занятость</td>\n",
       "      <td>101</td>\n",
       "    </tr>\n",
       "    <tr>\n",
       "      <th>13</th>\n",
       "      <td>Удаленная работа</td>\n",
       "      <td>Стажировка</td>\n",
       "      <td>64</td>\n",
       "    </tr>\n",
       "    <tr>\n",
       "      <th>14</th>\n",
       "      <td>Гибкий график</td>\n",
       "      <td>Проектная работа</td>\n",
       "      <td>18</td>\n",
       "    </tr>\n",
       "    <tr>\n",
       "      <th>15</th>\n",
       "      <td>Сменный график</td>\n",
       "      <td>Стажировка</td>\n",
       "      <td>12</td>\n",
       "    </tr>\n",
       "    <tr>\n",
       "      <th>16</th>\n",
       "      <td>Вахтовый метод</td>\n",
       "      <td>Проектная работа</td>\n",
       "      <td>2</td>\n",
       "    </tr>\n",
       "    <tr>\n",
       "      <th>17</th>\n",
       "      <td>Сменный график</td>\n",
       "      <td>Проектная работа</td>\n",
       "      <td>1</td>\n",
       "    </tr>\n",
       "  </tbody>\n",
       "</table>\n",
       "</div>"
      ],
      "text/plain": [
       "            schedule           employment  vacancies_cnt\n",
       "0        Полный день     Полная занятость          35367\n",
       "1   Удаленная работа     Полная занятость           7802\n",
       "2      Гибкий график     Полная занятость           1593\n",
       "3   Удаленная работа  Частичная занятость           1312\n",
       "4     Сменный график     Полная занятость            940\n",
       "5        Полный день           Стажировка            569\n",
       "6     Вахтовый метод     Полная занятость            367\n",
       "7        Полный день  Частичная занятость            347\n",
       "8      Гибкий график  Частичная занятость            312\n",
       "9        Полный день     Проектная работа            141\n",
       "10  Удаленная работа     Проектная работа            133\n",
       "11     Гибкий график           Стажировка            116\n",
       "12    Сменный график  Частичная занятость            101\n",
       "13  Удаленная работа           Стажировка             64\n",
       "14     Гибкий график     Проектная работа             18\n",
       "15    Сменный график           Стажировка             12\n",
       "16    Вахтовый метод     Проектная работа              2\n",
       "17    Сменный график     Проектная работа              1"
      ]
     },
     "execution_count": 19,
     "metadata": {},
     "output_type": "execute_result"
    }
   ],
   "source": [
    "# результат запроса\n",
    "df"
   ]
  },
  {
   "cell_type": "markdown",
   "id": "0136ffee-0ead-4a6b-b608-61d1c753a438",
   "metadata": {
    "id": "0136ffee-0ead-4a6b-b608-61d1c753a438"
   },
   "source": [
    "5. Напишите запрос, выводящий значения поля Требуемый опыт работы (experience) в порядке возрастания количества вакансий, в которых указан данный вариант опыта. "
   ]
  },
  {
   "cell_type": "code",
   "execution_count": 20,
   "id": "5b3a8e79-f7ab-4008-b767-12aea3a205ea",
   "metadata": {
    "id": "5b3a8e79-f7ab-4008-b767-12aea3a205ea"
   },
   "outputs": [],
   "source": [
    "# текст запроса\n",
    "query = f'''SELECT experience,\n",
    "              COUNT(id) AS vacancies_cnt\n",
    "            FROM public.vacancies\n",
    "            WHERE experience IS NOT NULL\n",
    "            GROUP BY 1\n",
    "            ORDER BY 2 ASC\n",
    "         '''\n",
    "\n",
    "df = pd.read_sql_query(query, connection)"
   ]
  },
  {
   "cell_type": "code",
   "execution_count": 21,
   "id": "3Is64Y-hpDpq",
   "metadata": {
    "id": "3Is64Y-hpDpq",
    "scrolled": true
   },
   "outputs": [
    {
     "data": {
      "text/html": [
       "<div>\n",
       "<style scoped>\n",
       "    .dataframe tbody tr th:only-of-type {\n",
       "        vertical-align: middle;\n",
       "    }\n",
       "\n",
       "    .dataframe tbody tr th {\n",
       "        vertical-align: top;\n",
       "    }\n",
       "\n",
       "    .dataframe thead th {\n",
       "        text-align: right;\n",
       "    }\n",
       "</style>\n",
       "<table border=\"1\" class=\"dataframe\">\n",
       "  <thead>\n",
       "    <tr style=\"text-align: right;\">\n",
       "      <th></th>\n",
       "      <th>experience</th>\n",
       "      <th>vacancies_cnt</th>\n",
       "    </tr>\n",
       "  </thead>\n",
       "  <tbody>\n",
       "    <tr>\n",
       "      <th>0</th>\n",
       "      <td>Более 6 лет</td>\n",
       "      <td>1337</td>\n",
       "    </tr>\n",
       "    <tr>\n",
       "      <th>1</th>\n",
       "      <td>Нет опыта</td>\n",
       "      <td>7197</td>\n",
       "    </tr>\n",
       "    <tr>\n",
       "      <th>2</th>\n",
       "      <td>От 3 до 6 лет</td>\n",
       "      <td>14511</td>\n",
       "    </tr>\n",
       "    <tr>\n",
       "      <th>3</th>\n",
       "      <td>От 1 года до 3 лет</td>\n",
       "      <td>26152</td>\n",
       "    </tr>\n",
       "  </tbody>\n",
       "</table>\n",
       "</div>"
      ],
      "text/plain": [
       "           experience  vacancies_cnt\n",
       "0         Более 6 лет           1337\n",
       "1           Нет опыта           7197\n",
       "2       От 3 до 6 лет          14511\n",
       "3  От 1 года до 3 лет          26152"
      ]
     },
     "execution_count": 21,
     "metadata": {},
     "output_type": "execute_result"
    }
   ],
   "source": [
    "# результат запроса\n",
    "df"
   ]
  },
  {
   "cell_type": "markdown",
   "id": "f0c2a51f",
   "metadata": {},
   "source": [
    "Построим гистограмму и коробчатую диаграмму распределения числа вакансий в зависимости от средней зарплаты"
   ]
  },
  {
   "cell_type": "code",
   "execution_count": 22,
   "id": "b278a94a",
   "metadata": {},
   "outputs": [],
   "source": [
    "query = f'''SELECT id,\n",
    "              (COALESCE(salary_from, salary_to) + COALESCE(salary_to, salary_from))/2 AS avg_salary\n",
    "            FROM public.vacancies\n",
    "            WHERE COALESCE(salary_from, salary_to) IS NOT NULL\n",
    "         '''\n",
    "\n",
    "df = pd.read_sql_query(query, connection)"
   ]
  },
  {
   "cell_type": "code",
   "execution_count": 23,
   "id": "19eb02e8",
   "metadata": {
    "scrolled": false
   },
   "outputs": [
    {
     "data": {
      "image/png": "[encoded data removed]"
     },
     "metadata": {},
     "output_type": "display_data"
    }
   ],
   "source": [
    "fig = px.histogram(\n",
    "    df,\n",
    "    x = \"avg_salary\",\n",
    "    marginal = \"box\",\n",
    "    nbins = 100,\n",
    "    title = 'Число вакансий в зависимости от зарплаты'\n",
    ")\n",
    "fig.update_layout(xaxis_title_text = 'Средняя зарплата (вакансии с зп до 500К руб.)', yaxis_title_text = 'Число вакансий')\n",
    "fig.show(\"png\")\n",
    "fig.write_html(\"plotly/vacancies_salary.html\")"
   ]
  },
  {
   "cell_type": "markdown",
   "id": "d295e157",
   "metadata": {},
   "source": [
    "Мода равна 60 тысяч рублей, минимальное и максимальное значения около 30 и 200 тысяч рублей соответственно. Аномально выглядят потенциальные выбросы справа.\n",
    "В дальнейших исследованиях зависимостей, связанных с заработной платой, исключим вакансии со средней зарплатой более 200 тысяч рублей"
   ]
  },
  {
   "cell_type": "code",
   "execution_count": 24,
   "id": "385f94cc",
   "metadata": {},
   "outputs": [],
   "source": [
    "query = f'''SELECT experience,\n",
    "              AVG((COALESCE(salary_from, salary_to) + COALESCE(salary_to, salary_from))/2) AS avg_salary\n",
    "            FROM public.vacancies\n",
    "            WHERE COALESCE(salary_from, salary_to) is not null and COALESCE(salary_from, salary_to) < 200000\n",
    "            GROUP BY experience\n",
    "            ORDER BY 2\n",
    "         '''\n",
    "\n",
    "df = pd.read_sql_query(query, connection)"
   ]
  },
  {
   "cell_type": "code",
   "execution_count": 25,
   "id": "36bc5a78",
   "metadata": {},
   "outputs": [
    {
     "data": {
      "image/png": "[encoded data removed]"
     },
     "metadata": {},
     "output_type": "display_data"
    }
   ],
   "source": [
    "fig = px.bar(\n",
    "    data_frame = df,\n",
    "    x = \"experience\",\n",
    "    y = \"avg_salary\",\n",
    "    color = 'experience',\n",
    "    orientation = 'v',\n",
    "    height = 500,\n",
    "    width = 950,\n",
    "    title = 'Средняя зарплата в зависимости от требуемого опыта работы'\n",
    ")\n",
    "fig.update_layout(\n",
    "    xaxis_title_text = 'Средняя зарплата (вакансии с зп до 200К руб.)',\n",
    "    yaxis_title_text = 'Опыт работы',\n",
    "    legend = dict(title = \"Опыт работы\")\n",
    ")\n",
    "fig.show(\"png\")\n",
    "fig.write_html(\"plotly/salary_experience.html\")"
   ]
  },
  {
   "cell_type": "markdown",
   "id": "96d05dc9",
   "metadata": {},
   "source": [
    "Наибольший уровень предлагаемой зарплаты для соискателей с опытом работы от 6 лет, наименьший - для соискателей без опыта.\n",
    "\n",
    "Опыт имеет смысл учитывать при прогнозировании заработной платы, т.к. видна явная зависимость."
   ]
  },
  {
   "cell_type": "markdown",
   "id": "oq2b7n1QpIka",
   "metadata": {
    "id": "oq2b7n1QpIka"
   },
   "source": [
    "***"
   ]
  },
  {
   "cell_type": "markdown",
   "id": "dd00ace6",
   "metadata": {
    "id": "e91f87ed-e25c-4f96-9f92-b642e8c0b4fa"
   },
   "source": [
    "*Наибольшее число вакансий - в крупных городах. Медианная зарплата около 60 тысяч рублей, при этом видна прямая зависимость заработной платы от опыта работы*\n",
    "\n",
    "*Однако вакансии с указанной зарплатой составляют всего около половины ото всей базы вакансий. Таким образом, для полноценного исследования их нельзя исключать из рассмотрения. В следующем блоке исследуем этот вопрос более детально*"
   ]
  },
  {
   "cell_type": "markdown",
   "id": "7ea20ab6-04a7-40a0-adec-443a0e5a42c3",
   "metadata": {
    "id": "7ea20ab6-04a7-40a0-adec-443a0e5a42c3"
   },
   "source": [
    "# Юнит 5. Анализ работодателей"
   ]
  },
  {
   "cell_type": "markdown",
   "id": "968aed80-74ef-4ffb-b5bf-c65b84e9caea",
   "metadata": {
    "id": "968aed80-74ef-4ffb-b5bf-c65b84e9caea"
   },
   "source": [
    "1. Напишите запрос, который позволит узнать, какие работодатели находятся на первом и пятом месте по количеству вакансий."
   ]
  },
  {
   "cell_type": "code",
   "execution_count": 26,
   "id": "f2d62796-d400-4ec1-a675-88112739a50e",
   "metadata": {
    "id": "f2d62796-d400-4ec1-a675-88112739a50e"
   },
   "outputs": [],
   "source": [
    "# текст запроса\n",
    "query = f'''(SELECT '1st place' AS employer_rating,\n",
    "               employers.name,\n",
    "               COUNT(vacancies.id) AS vacancies_cnt\n",
    "             FROM public.employers employers\n",
    "             LEFT JOIN\n",
    "                  public.vacancies vacancies\n",
    "             ON employers.id = vacancies.employer_id\n",
    "             GROUP BY 1, 2\n",
    "             ORDER BY 3 DESC\n",
    "             LIMIT 1)\n",
    "             UNION ALL\n",
    "            (SELECT '5th place' AS employer_rating,\n",
    "               employers.name,\n",
    "               COUNT(vacancies.id) AS vacancies_cnt\n",
    "             FROM public.employers employers\n",
    "             LEFT JOIN\n",
    "                  public.vacancies vacancies\n",
    "             ON employers.id = vacancies.employer_id\n",
    "             GROUP BY 1, 2\n",
    "             ORDER BY 3 DESC\n",
    "             OFFSET 4\n",
    "             LIMIT 1)\n",
    "         '''\n",
    "\n",
    "df = pd.read_sql_query(query, connection)"
   ]
  },
  {
   "cell_type": "code",
   "execution_count": 27,
   "id": "64tOMkAxqkQk",
   "metadata": {
    "id": "64tOMkAxqkQk"
   },
   "outputs": [
    {
     "data": {
      "text/html": [
       "<div>\n",
       "<style scoped>\n",
       "    .dataframe tbody tr th:only-of-type {\n",
       "        vertical-align: middle;\n",
       "    }\n",
       "\n",
       "    .dataframe tbody tr th {\n",
       "        vertical-align: top;\n",
       "    }\n",
       "\n",
       "    .dataframe thead th {\n",
       "        text-align: right;\n",
       "    }\n",
       "</style>\n",
       "<table border=\"1\" class=\"dataframe\">\n",
       "  <thead>\n",
       "    <tr style=\"text-align: right;\">\n",
       "      <th></th>\n",
       "      <th>employer_rating</th>\n",
       "      <th>name</th>\n",
       "      <th>vacancies_cnt</th>\n",
       "    </tr>\n",
       "  </thead>\n",
       "  <tbody>\n",
       "    <tr>\n",
       "      <th>0</th>\n",
       "      <td>1st place</td>\n",
       "      <td>Яндекс</td>\n",
       "      <td>1933</td>\n",
       "    </tr>\n",
       "    <tr>\n",
       "      <th>1</th>\n",
       "      <td>5th place</td>\n",
       "      <td>Газпром нефть</td>\n",
       "      <td>331</td>\n",
       "    </tr>\n",
       "  </tbody>\n",
       "</table>\n",
       "</div>"
      ],
      "text/plain": [
       "  employer_rating           name  vacancies_cnt\n",
       "0       1st place         Яндекс           1933\n",
       "1       5th place  Газпром нефть            331"
      ]
     },
     "execution_count": 27,
     "metadata": {},
     "output_type": "execute_result"
    }
   ],
   "source": [
    "# результат запроса\n",
    "df"
   ]
  },
  {
   "cell_type": "markdown",
   "id": "68377cfc-b378-43dc-ab7d-1195abf2c515",
   "metadata": {
    "id": "68377cfc-b378-43dc-ab7d-1195abf2c515"
   },
   "source": [
    "2. Напишите запрос, который для каждого региона выведет количество работодателей и вакансий в нём.\n",
    "Среди регионов, в которых нет вакансий, найдите тот, в котором наибольшее количество работодателей.\n"
   ]
  },
  {
   "cell_type": "code",
   "execution_count": 28,
   "id": "dd7df27a-e3e8-412e-a21a-5d389b71e891",
   "metadata": {
    "id": "dd7df27a-e3e8-412e-a21a-5d389b71e891",
    "scrolled": true
   },
   "outputs": [],
   "source": [
    "# текст запроса\n",
    "df = pd.read_sql_query(query, connection)\n",
    "df\n",
    "query = f'''SELECT areas.name AS region_name,\n",
    "              emp.employers_cnt,\n",
    "              vacancies.vacancies_cnt\n",
    "            FROM public.areas areas\n",
    "            LEFT JOIN\n",
    "           (SELECT area_id,\n",
    "              COUNT(id) AS vacancies_cnt\n",
    "            FROM public.vacancies\n",
    "            GROUP BY 1\n",
    "           ) vacancies\n",
    "            ON areas.id = vacancies.area_id\n",
    "            LEFT JOIN\n",
    "           (SELECT area AS area_id,\n",
    "              COUNT(id) AS employers_cnt\n",
    "            FROM public.employers employers\n",
    "            GROUP BY 1\n",
    "           ) AS emp\n",
    "            ON areas.id = emp.area_id\n",
    "            ORDER BY 2 DESC NULLS LAST\n",
    "         '''\n",
    "\n",
    "\n",
    "df = pd.read_sql_query(query, connection)"
   ]
  },
  {
   "cell_type": "code",
   "execution_count": 29,
   "id": "8ea677af",
   "metadata": {
    "scrolled": false
   },
   "outputs": [
    {
     "data": {
      "text/html": [
       "<div>\n",
       "<style scoped>\n",
       "    .dataframe tbody tr th:only-of-type {\n",
       "        vertical-align: middle;\n",
       "    }\n",
       "\n",
       "    .dataframe tbody tr th {\n",
       "        vertical-align: top;\n",
       "    }\n",
       "\n",
       "    .dataframe thead th {\n",
       "        text-align: right;\n",
       "    }\n",
       "</style>\n",
       "<table border=\"1\" class=\"dataframe\">\n",
       "  <thead>\n",
       "    <tr style=\"text-align: right;\">\n",
       "      <th></th>\n",
       "      <th>region_name</th>\n",
       "      <th>employers_cnt</th>\n",
       "      <th>vacancies_cnt</th>\n",
       "    </tr>\n",
       "  </thead>\n",
       "  <tbody>\n",
       "    <tr>\n",
       "      <th>0</th>\n",
       "      <td>Москва</td>\n",
       "      <td>5864.0</td>\n",
       "      <td>5333.0</td>\n",
       "    </tr>\n",
       "    <tr>\n",
       "      <th>1</th>\n",
       "      <td>Санкт-Петербург</td>\n",
       "      <td>2217.0</td>\n",
       "      <td>2851.0</td>\n",
       "    </tr>\n",
       "    <tr>\n",
       "      <th>2</th>\n",
       "      <td>Минск</td>\n",
       "      <td>1115.0</td>\n",
       "      <td>2112.0</td>\n",
       "    </tr>\n",
       "    <tr>\n",
       "      <th>3</th>\n",
       "      <td>Алматы</td>\n",
       "      <td>721.0</td>\n",
       "      <td>1892.0</td>\n",
       "    </tr>\n",
       "    <tr>\n",
       "      <th>4</th>\n",
       "      <td>Екатеринбург</td>\n",
       "      <td>609.0</td>\n",
       "      <td>1698.0</td>\n",
       "    </tr>\n",
       "    <tr>\n",
       "      <th>...</th>\n",
       "      <td>...</td>\n",
       "      <td>...</td>\n",
       "      <td>...</td>\n",
       "    </tr>\n",
       "    <tr>\n",
       "      <th>1357</th>\n",
       "      <td>Североморск</td>\n",
       "      <td>NaN</td>\n",
       "      <td>3.0</td>\n",
       "    </tr>\n",
       "    <tr>\n",
       "      <th>1358</th>\n",
       "      <td>Толмачево</td>\n",
       "      <td>NaN</td>\n",
       "      <td>NaN</td>\n",
       "    </tr>\n",
       "    <tr>\n",
       "      <th>1359</th>\n",
       "      <td>Костомукша</td>\n",
       "      <td>NaN</td>\n",
       "      <td>4.0</td>\n",
       "    </tr>\n",
       "    <tr>\n",
       "      <th>1360</th>\n",
       "      <td>Иваново (Брестская область)</td>\n",
       "      <td>NaN</td>\n",
       "      <td>NaN</td>\n",
       "    </tr>\n",
       "    <tr>\n",
       "      <th>1361</th>\n",
       "      <td>Фергана</td>\n",
       "      <td>NaN</td>\n",
       "      <td>1.0</td>\n",
       "    </tr>\n",
       "  </tbody>\n",
       "</table>\n",
       "<p>1362 rows × 3 columns</p>\n",
       "</div>"
      ],
      "text/plain": [
       "                      region_name  employers_cnt  vacancies_cnt\n",
       "0                          Москва         5864.0         5333.0\n",
       "1                 Санкт-Петербург         2217.0         2851.0\n",
       "2                           Минск         1115.0         2112.0\n",
       "3                          Алматы          721.0         1892.0\n",
       "4                    Екатеринбург          609.0         1698.0\n",
       "...                           ...            ...            ...\n",
       "1357                  Североморск            NaN            3.0\n",
       "1358                    Толмачево            NaN            NaN\n",
       "1359                   Костомукша            NaN            4.0\n",
       "1360  Иваново (Брестская область)            NaN            NaN\n",
       "1361                      Фергана            NaN            1.0\n",
       "\n",
       "[1362 rows x 3 columns]"
      ]
     },
     "execution_count": 29,
     "metadata": {},
     "output_type": "execute_result"
    }
   ],
   "source": [
    "# результат запроса\n",
    "df"
   ]
  },
  {
   "cell_type": "code",
   "execution_count": 30,
   "id": "3103c0dc",
   "metadata": {},
   "outputs": [],
   "source": [
    "# текст запроса\n",
    "query1 = f'''SELECT areas.name AS region_name,\n",
    "               emp.employers_cnt,\n",
    "               vacancies.vacancies_cnt\n",
    "             FROM public.areas areas\n",
    "             LEFT JOIN\n",
    "            (SELECT area_id,\n",
    "               COUNT(id) AS vacancies_cnt\n",
    "             FROM public.vacancies GROUP BY 1\n",
    "            ) vacancies\n",
    "             ON areas.id = vacancies.area_id\n",
    "             LEFT JOIN\n",
    "            (SELECT area AS area_id,\n",
    "               COUNT(id)  AS employers_cnt\n",
    "             FROM public.employers employers\n",
    "             GROUP BY 1\n",
    "            ) AS emp\n",
    "             ON areas.id = emp.area_id\n",
    "             WHERE vacancies.area_id IS NULL\n",
    "             ORDER BY 2 DESC NULLS LAST\n",
    "             LIMIT 1\n",
    "          '''"
   ]
  },
  {
   "cell_type": "code",
   "execution_count": 31,
   "id": "x1ikWbydrbf6",
   "metadata": {
    "id": "x1ikWbydrbf6"
   },
   "outputs": [
    {
     "name": "stdout",
     "output_type": "stream",
     "text": [
      "Регион без вакансий с наибольшим числом работодателей: Россия\n"
     ]
    }
   ],
   "source": [
    "df1 = pd.read_sql_query(query1, connection)\n",
    "print('Регион без вакансий с наибольшим числом работодателей:', df1['region_name'][0])"
   ]
  },
  {
   "cell_type": "markdown",
   "id": "f2fe0acb-ab1a-4e15-9326-2560e22d73c1",
   "metadata": {
    "id": "f2fe0acb-ab1a-4e15-9326-2560e22d73c1"
   },
   "source": [
    "3. Для каждого работодателя посчитайте количество регионов, в которых он публикует свои вакансии. Отсортируйте результат по убыванию количества.\n"
   ]
  },
  {
   "cell_type": "code",
   "execution_count": 32,
   "id": "6271f8ad-bd2e-4196-ae4a-5b39c4c1010e",
   "metadata": {
    "id": "6271f8ad-bd2e-4196-ae4a-5b39c4c1010e"
   },
   "outputs": [],
   "source": [
    "# текст запроса\n",
    "query = f'''SELECT employer_id,\n",
    "              COUNT(DISTINCT area_id) AS areas_unique_cnt\n",
    "            FROM public.vacancies vacancies\n",
    "            GROUP BY 1\n",
    "            ORDER BY 2 DESC\n",
    "         '''\n",
    "\n",
    "df = pd.read_sql_query(query, connection)"
   ]
  },
  {
   "cell_type": "code",
   "execution_count": 33,
   "id": "1EIvX3HasH4F",
   "metadata": {
    "id": "1EIvX3HasH4F"
   },
   "outputs": [
    {
     "data": {
      "text/html": [
       "<div>\n",
       "<style scoped>\n",
       "    .dataframe tbody tr th:only-of-type {\n",
       "        vertical-align: middle;\n",
       "    }\n",
       "\n",
       "    .dataframe tbody tr th {\n",
       "        vertical-align: top;\n",
       "    }\n",
       "\n",
       "    .dataframe thead th {\n",
       "        text-align: right;\n",
       "    }\n",
       "</style>\n",
       "<table border=\"1\" class=\"dataframe\">\n",
       "  <thead>\n",
       "    <tr style=\"text-align: right;\">\n",
       "      <th></th>\n",
       "      <th>employer_id</th>\n",
       "      <th>areas_unique_cnt</th>\n",
       "    </tr>\n",
       "  </thead>\n",
       "  <tbody>\n",
       "    <tr>\n",
       "      <th>0</th>\n",
       "      <td>1740</td>\n",
       "      <td>181</td>\n",
       "    </tr>\n",
       "    <tr>\n",
       "      <th>1</th>\n",
       "      <td>2748</td>\n",
       "      <td>152</td>\n",
       "    </tr>\n",
       "    <tr>\n",
       "      <th>2</th>\n",
       "      <td>5724811</td>\n",
       "      <td>116</td>\n",
       "    </tr>\n",
       "    <tr>\n",
       "      <th>3</th>\n",
       "      <td>5130287</td>\n",
       "      <td>88</td>\n",
       "    </tr>\n",
       "    <tr>\n",
       "      <th>4</th>\n",
       "      <td>3682876</td>\n",
       "      <td>71</td>\n",
       "    </tr>\n",
       "    <tr>\n",
       "      <th>...</th>\n",
       "      <td>...</td>\n",
       "      <td>...</td>\n",
       "    </tr>\n",
       "    <tr>\n",
       "      <th>14901</th>\n",
       "      <td>810278</td>\n",
       "      <td>1</td>\n",
       "    </tr>\n",
       "    <tr>\n",
       "      <th>14902</th>\n",
       "      <td>810313</td>\n",
       "      <td>1</td>\n",
       "    </tr>\n",
       "    <tr>\n",
       "      <th>14903</th>\n",
       "      <td>810551</td>\n",
       "      <td>1</td>\n",
       "    </tr>\n",
       "    <tr>\n",
       "      <th>14904</th>\n",
       "      <td>810688</td>\n",
       "      <td>1</td>\n",
       "    </tr>\n",
       "    <tr>\n",
       "      <th>14905</th>\n",
       "      <td>811902</td>\n",
       "      <td>1</td>\n",
       "    </tr>\n",
       "  </tbody>\n",
       "</table>\n",
       "<p>14906 rows × 2 columns</p>\n",
       "</div>"
      ],
      "text/plain": [
       "       employer_id  areas_unique_cnt\n",
       "0             1740               181\n",
       "1             2748               152\n",
       "2          5724811               116\n",
       "3          5130287                88\n",
       "4          3682876                71\n",
       "...            ...               ...\n",
       "14901       810278                 1\n",
       "14902       810313                 1\n",
       "14903       810551                 1\n",
       "14904       810688                 1\n",
       "14905       811902                 1\n",
       "\n",
       "[14906 rows x 2 columns]"
      ]
     },
     "execution_count": 33,
     "metadata": {},
     "output_type": "execute_result"
    }
   ],
   "source": [
    "# результат запроса\n",
    "df"
   ]
  },
  {
   "cell_type": "markdown",
   "id": "eab2206d-d95b-468b-8e5f-34381abf0ce7",
   "metadata": {
    "id": "eab2206d-d95b-468b-8e5f-34381abf0ce7"
   },
   "source": [
    "4. Напишите запрос для подсчёта количества работодателей, у которых не указана сфера деятельности. "
   ]
  },
  {
   "cell_type": "code",
   "execution_count": 34,
   "id": "80defb23-bfb1-4a18-8be6-bf36aa7165d5",
   "metadata": {
    "id": "80defb23-bfb1-4a18-8be6-bf36aa7165d5"
   },
   "outputs": [],
   "source": [
    "# текст запроса\n",
    "query = f'''SELECT COUNT(DISTINCT emp.id) AS employers_unique_cnt\n",
    "            FROM public.employers emp\n",
    "            LEFT JOIN public.employers_industries emp_ind\n",
    "            ON emp.id = emp_ind.employer_id\n",
    "            WHERE emp_ind.employer_id IS NULL\n",
    "         '''\n",
    "\n",
    "df = pd.read_sql_query(query, connection)"
   ]
  },
  {
   "cell_type": "code",
   "execution_count": 35,
   "id": "Dp_yCx6ysQSu",
   "metadata": {
    "id": "Dp_yCx6ysQSu"
   },
   "outputs": [
    {
     "name": "stdout",
     "output_type": "stream",
     "text": [
      "Количество работодателей, у которых не указана сфера деятельности: 8419\n"
     ]
    }
   ],
   "source": [
    "# результат запроса\n",
    "print('Количество работодателей, у которых не указана сфера деятельности:', df['employers_unique_cnt'][0])"
   ]
  },
  {
   "cell_type": "markdown",
   "id": "0112af31-f6b0-4e3b-82ab-71296e752e5e",
   "metadata": {
    "id": "0112af31-f6b0-4e3b-82ab-71296e752e5e"
   },
   "source": [
    "5. Напишите запрос, чтобы узнать название компании, находящейся на третьем месте в алфавитном списке (по названию) компаний, у которых указано четыре сферы деятельности. "
   ]
  },
  {
   "cell_type": "code",
   "execution_count": 36,
   "id": "973b0cfc-a972-470a-8b4a-68744ef220c4",
   "metadata": {
    "id": "973b0cfc-a972-470a-8b4a-68744ef220c4"
   },
   "outputs": [],
   "source": [
    "# текст запроса\n",
    "query = f'''SELECT emp.name,\n",
    "              COUNT(emp_ind.industry_id) AS industries_cnt\n",
    "            FROM public.employers_industries emp_ind\n",
    "            LEFT JOIN public.employers emp\n",
    "            ON emp_ind.employer_id = emp.id\n",
    "            GROUP BY 1\n",
    "            HAVING COUNT(emp_ind.industry_id) = 4\n",
    "            ORDER BY 1 ASC OFFSET 2 LIMIT 1\n",
    "         '''\n",
    "\n",
    "df = pd.read_sql_query(query, connection)"
   ]
  },
  {
   "cell_type": "code",
   "execution_count": 37,
   "id": "xsPtpp8EsaED",
   "metadata": {
    "id": "xsPtpp8EsaED"
   },
   "outputs": [
    {
     "name": "stdout",
     "output_type": "stream",
     "text": [
      "3-е место среди компаний с 4-мя сферами деятельности: 2ГИС\n"
     ]
    }
   ],
   "source": [
    "# результат запроса\n",
    "print('3-е место среди компаний с 4-мя сферами деятельности:', df['name'][0])"
   ]
  },
  {
   "cell_type": "markdown",
   "id": "3bfcfdaf-755d-4d2b-8ed8-326201dc07ab",
   "metadata": {
    "id": "3bfcfdaf-755d-4d2b-8ed8-326201dc07ab"
   },
   "source": [
    "6. С помощью запроса выясните, у какого количества работодателей в качестве сферы деятельности указана Разработка программного обеспечения.\n"
   ]
  },
  {
   "cell_type": "code",
   "execution_count": 38,
   "id": "ad3f270f-2991-47eb-929b-e8f88a55b0d1",
   "metadata": {
    "id": "ad3f270f-2991-47eb-929b-e8f88a55b0d1"
   },
   "outputs": [],
   "source": [
    "# текст запроса\n",
    "query = f'''SELECT COUNT(DISTINCT employer_id) AS employers_unique_cnt\n",
    "            FROM public.employers_industries emp_ind\n",
    "            LEFT JOIN\n",
    "                 public.industries industries\n",
    "            ON emp_ind.industry_id = industries.id\n",
    "            WHERE industries.name = 'Разработка программного обеспечения'\n",
    "         '''\n",
    "\n",
    "df = pd.read_sql_query(query, connection)"
   ]
  },
  {
   "cell_type": "code",
   "execution_count": 39,
   "id": "H72qxWM0shPR",
   "metadata": {
    "id": "H72qxWM0shPR"
   },
   "outputs": [
    {
     "name": "stdout",
     "output_type": "stream",
     "text": [
      "Кол-во работодателей в сфере разработки ПО: 3553\n"
     ]
    }
   ],
   "source": [
    "# результат запроса\n",
    "print('Кол-во работодателей в сфере разработки ПО:', df['employers_unique_cnt'][0])"
   ]
  },
  {
   "cell_type": "markdown",
   "id": "7b02bb86-0546-40fb-94a4-242f050a5c57",
   "metadata": {
    "id": "7b02bb86-0546-40fb-94a4-242f050a5c57"
   },
   "source": [
    "7. Для компании «Яндекс» выведите список регионов-миллионников, в которых представлены вакансии компании, вместе с количеством вакансий в этих регионах. Также добавьте строку Total с общим количеством вакансий компании. Результат отсортируйте по возрастанию количества.\n",
    "\n",
    "Список городов-милионников надо взять [отсюда](https://ru.wikipedia.org/wiki/%D0%93%D0%BE%D1%80%D0%BE%D0%B4%D0%B0-%D0%BC%D0%B8%D0%BB%D0%BB%D0%B8%D0%BE%D0%BD%D0%B5%D1%80%D1%8B_%D0%A0%D0%BE%D1%81%D1%81%D0%B8%D0%B8). \n",
    "\n",
    "Если возникнут трудности с этим задание посмотрите материалы модуля  PYTHON-17. Как получать данные из веб-источников и API. "
   ]
  },
  {
   "cell_type": "code",
   "execution_count": 40,
   "id": "80f06921",
   "metadata": {},
   "outputs": [],
   "source": [
    "url = quote_plus('https://ru.wikipedia.org/wiki/Города-миллионеры_России', safe=':/')\n",
    "mln_cities = tuple(pd.read_html(url)[1]['Город'])\n",
    "mln_cities_population = pd.read_html(url)[1]\n",
    "\n",
    "mln_cities_population['Население, тыс. чел. (на 1 января 2023 года)'] \\\n",
    "= mln_cities_population['Население, тыс. чел. (на 1 января 2023 года)'] \\\n",
    ".apply(lambda x: x.replace(' ' ,'')).astype(int)"
   ]
  },
  {
   "cell_type": "code",
   "execution_count": 41,
   "id": "af9119ae",
   "metadata": {},
   "outputs": [],
   "source": [
    "query = f'''(SELECT areas.name,\n",
    "               COUNT(DISTINCT vacancies.id) AS cnt\n",
    "             FROM\n",
    "                  public.vacancies vacancies\n",
    "             LEFT JOIN \n",
    "                  public.employers employers\n",
    "             ON vacancies.employer_id = employers.id\n",
    "             LEFT JOIN\n",
    "                  public.areas areas\n",
    "             ON vacancies.area_id = areas.id\n",
    "             WHERE employers.name = 'Яндекс'\n",
    "             AND areas.name IN {mln_cities}\n",
    "             GROUP BY 1)\n",
    "             UNION ALL\n",
    "            (SELECT 'Total' AS name,\n",
    "               COUNT(DISTINCT vacancies.id) AS cnt\n",
    "             FROM \n",
    "                   public.vacancies vacancies\n",
    "             LEFT JOIN\n",
    "                   public.employers employers\n",
    "             ON vacancies.employer_id = employers.id\n",
    "             LEFT JOIN\n",
    "                   public.areas areas\n",
    "             ON vacancies.area_id = areas.id\n",
    "             WHERE employers.name = 'Яндекс'\n",
    "             AND areas.name IN {mln_cities}\n",
    "             GROUP BY 1)\n",
    "             ORDER BY 2 ASC\n",
    "         '''.format(mln_cities)\n",
    "\n",
    "yandex_areas_df = pd.read_sql_query(query, connection)"
   ]
  },
  {
   "cell_type": "code",
   "execution_count": 42,
   "id": "ttPhiO1rsvPq",
   "metadata": {
    "id": "ttPhiO1rsvPq",
    "scrolled": false
   },
   "outputs": [
    {
     "data": {
      "text/html": [
       "<div>\n",
       "<style scoped>\n",
       "    .dataframe tbody tr th:only-of-type {\n",
       "        vertical-align: middle;\n",
       "    }\n",
       "\n",
       "    .dataframe tbody tr th {\n",
       "        vertical-align: top;\n",
       "    }\n",
       "\n",
       "    .dataframe thead th {\n",
       "        text-align: right;\n",
       "    }\n",
       "</style>\n",
       "<table border=\"1\" class=\"dataframe\">\n",
       "  <thead>\n",
       "    <tr style=\"text-align: right;\">\n",
       "      <th></th>\n",
       "      <th>name</th>\n",
       "      <th>cnt</th>\n",
       "    </tr>\n",
       "  </thead>\n",
       "  <tbody>\n",
       "    <tr>\n",
       "      <th>0</th>\n",
       "      <td>Омск</td>\n",
       "      <td>21</td>\n",
       "    </tr>\n",
       "    <tr>\n",
       "      <th>1</th>\n",
       "      <td>Челябинск</td>\n",
       "      <td>22</td>\n",
       "    </tr>\n",
       "    <tr>\n",
       "      <th>2</th>\n",
       "      <td>Красноярск</td>\n",
       "      <td>23</td>\n",
       "    </tr>\n",
       "    <tr>\n",
       "      <th>3</th>\n",
       "      <td>Волгоград</td>\n",
       "      <td>24</td>\n",
       "    </tr>\n",
       "    <tr>\n",
       "      <th>4</th>\n",
       "      <td>Пермь</td>\n",
       "      <td>25</td>\n",
       "    </tr>\n",
       "    <tr>\n",
       "      <th>5</th>\n",
       "      <td>Казань</td>\n",
       "      <td>25</td>\n",
       "    </tr>\n",
       "    <tr>\n",
       "      <th>6</th>\n",
       "      <td>Ростов-на-Дону</td>\n",
       "      <td>25</td>\n",
       "    </tr>\n",
       "    <tr>\n",
       "      <th>7</th>\n",
       "      <td>Уфа</td>\n",
       "      <td>26</td>\n",
       "    </tr>\n",
       "    <tr>\n",
       "      <th>8</th>\n",
       "      <td>Самара</td>\n",
       "      <td>26</td>\n",
       "    </tr>\n",
       "    <tr>\n",
       "      <th>9</th>\n",
       "      <td>Краснодар</td>\n",
       "      <td>30</td>\n",
       "    </tr>\n",
       "    <tr>\n",
       "      <th>10</th>\n",
       "      <td>Воронеж</td>\n",
       "      <td>32</td>\n",
       "    </tr>\n",
       "    <tr>\n",
       "      <th>11</th>\n",
       "      <td>Новосибирск</td>\n",
       "      <td>35</td>\n",
       "    </tr>\n",
       "    <tr>\n",
       "      <th>12</th>\n",
       "      <td>Нижний Новгород</td>\n",
       "      <td>36</td>\n",
       "    </tr>\n",
       "    <tr>\n",
       "      <th>13</th>\n",
       "      <td>Екатеринбург</td>\n",
       "      <td>39</td>\n",
       "    </tr>\n",
       "    <tr>\n",
       "      <th>14</th>\n",
       "      <td>Санкт-Петербург</td>\n",
       "      <td>42</td>\n",
       "    </tr>\n",
       "    <tr>\n",
       "      <th>15</th>\n",
       "      <td>Москва</td>\n",
       "      <td>54</td>\n",
       "    </tr>\n",
       "    <tr>\n",
       "      <th>16</th>\n",
       "      <td>Total</td>\n",
       "      <td>485</td>\n",
       "    </tr>\n",
       "  </tbody>\n",
       "</table>\n",
       "</div>"
      ],
      "text/plain": [
       "               name  cnt\n",
       "0              Омск   21\n",
       "1         Челябинск   22\n",
       "2        Красноярск   23\n",
       "3         Волгоград   24\n",
       "4             Пермь   25\n",
       "5            Казань   25\n",
       "6    Ростов-на-Дону   25\n",
       "7               Уфа   26\n",
       "8            Самара   26\n",
       "9         Краснодар   30\n",
       "10          Воронеж   32\n",
       "11      Новосибирск   35\n",
       "12  Нижний Новгород   36\n",
       "13     Екатеринбург   39\n",
       "14  Санкт-Петербург   42\n",
       "15           Москва   54\n",
       "16            Total  485"
      ]
     },
     "execution_count": 42,
     "metadata": {},
     "output_type": "execute_result"
    }
   ],
   "source": [
    "# результат запроса\n",
    "yandex_areas_df"
   ]
  },
  {
   "cell_type": "markdown",
   "id": "c56baf12",
   "metadata": {},
   "source": [
    "Проанализируем закономерности, которые влияют на то, указана ли предлагаемая заработная плата. Для этого рассмотрим долю вакансий с зарплатой и без нее, в разрезе регионов, в которых предлагается вакансия."
   ]
  },
  {
   "cell_type": "code",
   "execution_count": 43,
   "id": "cad019f4",
   "metadata": {},
   "outputs": [],
   "source": [
    "query = f'''\n",
    "/* Вынесем отдельно подзапрос, который формирует справочную таблицу по городам. К имеющейся таблице areas\n",
    "   добавлено поле city_type, в котором города сгруппированы на кластеры по населению*/\n",
    "WITH areas AS \n",
    "  (SELECT areas.id,\n",
    "    areas.name,\n",
    "    CASE\n",
    "      WHEN name IN ('Москва', 'Санкт-Петербург')\n",
    "      THEN name\n",
    "      WHEN (name in {mln_cities}\n",
    "      AND name NOT IN ('Москва', 'Санкт-Петербург'))\n",
    "      THEN 'Город-миллионник'\n",
    "      ELSE 'Другие'\n",
    "    END AS city_type\n",
    "  FROM public.areas\n",
    "  )\n",
    "---- Main\n",
    "SELECT areas.city_type,\n",
    "  SUM(\n",
    "  CASE\n",
    "    WHEN COALESCE(salary_from, salary_to) IS NULL\n",
    "    THEN 1\n",
    "    ELSE 0\n",
    "  END)                         AS vac_wo_salary,\n",
    "  COUNT(DISTINCT vacancies.ID) AS vac_ttl,\n",
    "  /*В поле vac_wo_salary рассчитан флаг, который принимает значение 1,\n",
    "    если в описании вакансии не указана зарплата. При подсчете числа таких вакансий данный флаг\n",
    "    можно просто прсуммировать, это сделано в формуле ниже*/\n",
    "  SUM(\n",
    "  CASE\n",
    "    WHEN COALESCE(salary_from, salary_to) IS NULL\n",
    "    THEN 1\n",
    "    ELSE 0\n",
    "  END)*100/COUNT(DISTINCT vacancies.ID) AS vac_wo_salary_share \n",
    "FROM public.vacancies vacancies\n",
    "LEFT JOIN areas areas\n",
    "ON vacancies.area_id = areas.id\n",
    "GROUP BY 1\n",
    "ORDER BY vac_wo_salary_share\n",
    "'''.format(mln_cities)\n",
    "\n",
    "salary_cities_df = pd.read_sql_query(query, connection)"
   ]
  },
  {
   "cell_type": "code",
   "execution_count": 44,
   "id": "a89562a8",
   "metadata": {},
   "outputs": [
    {
     "data": {
      "image/png": "[encoded data removed]"
     },
     "metadata": {},
     "output_type": "display_data"
    }
   ],
   "source": [
    "fig = px.bar(\n",
    "    data_frame = salary_cities_df,\n",
    "    x = \"city_type\",\n",
    "    y = \"vac_wo_salary_share\",\n",
    "    color = 'city_type',\n",
    "    orientation = 'v',\n",
    "    height = 500,\n",
    "    width = 950,\n",
    "    title = 'Доля вакансий без указания зарплаты в зависимости от города вакансии'\n",
    ")\n",
    "fig.update_layout(\n",
    "    xaxis_title_text = 'Город',\n",
    "    yaxis_title_text = 'Доля вакансий без указания зп',\n",
    "    legend = dict(title = \"Город\")\n",
    ")\n",
    "fig.show(\"png\")\n",
    "fig.write_html(\"plotly/no_salary_city.html\")"
   ]
  },
  {
   "cell_type": "markdown",
   "id": "34f21d4f",
   "metadata": {},
   "source": [
    "На графике видна явная закономерность: чем крупнее город, тем менее охотно работодатели указывают зарплаты для своих вакансий.\n",
    "\n",
    "Это может быть связано с тем, что в крупных городах больше вакансий с высокой зарплатой и в областях, в которых зарплату обычно не указывают (например, руководящие должности), однако данное предположение требует дополнительной проверки"
   ]
  },
  {
   "cell_type": "code",
   "execution_count": 45,
   "id": "0f48f1b6",
   "metadata": {},
   "outputs": [],
   "source": [
    "query = f'''\n",
    "/* Т.к. в Postgres нет функции pivot, преобразуем результат подзапроса T0\n",
    "   к формату сводной таблицы через CASE. Для этого создадим столбцы, каждый из которых\n",
    "   соответствует одному из значений поля schedule. В строках этих новых столбцов\n",
    "   будет сумма по полю с зарплатой\" */\n",
    "SELECT schedule,\n",
    "  SUM(\n",
    "  CASE experience\n",
    "    WHEN 'Нет опыта'\n",
    "    THEN vac_wo_salary_share\n",
    "    ELSE 0\n",
    "  END) AS \"Нет опыта\",\n",
    "  SUM(\n",
    "  CASE experience\n",
    "    WHEN 'От 1 года до 3 лет'\n",
    "    THEN vac_wo_salary_share\n",
    "    ELSE 0\n",
    "  END) AS \"От 1 года до 3 лет\",\n",
    "  SUM(\n",
    "  CASE experience\n",
    "    WHEN 'От 3 до 6 лет'\n",
    "    THEN vac_wo_salary_share\n",
    "    ELSE 0\n",
    "  END) AS \"От 3 до 6 лет\",\n",
    "  SUM(\n",
    "  CASE experience\n",
    "    WHEN 'Более 6 лет'\n",
    "    THEN vac_wo_salary_share\n",
    "    ELSE 0\n",
    "  END) AS \"Более 6 лет\"\n",
    "FROM\n",
    "  (SELECT experience,\n",
    "    SCHEDULE,\n",
    "    CAST(SUM(\n",
    "    CASE\n",
    "      WHEN COALESCE(salary_from, salary_to) IS NULL\n",
    "      THEN 1\n",
    "      ELSE 0\n",
    "    END) AS FLOAT)*100/CAST(COUNT(DISTINCT vacancies.ID) AS FLOAT) AS vac_wo_salary_share\n",
    "  FROM public.vacancies vacancies\n",
    "  GROUP BY 1,\n",
    "    2\n",
    "  ) T0\n",
    "GROUP BY 1\n",
    "'''\n",
    "\n",
    "salary_details_df = pd.read_sql_query(query, connection).set_index('schedule')"
   ]
  },
  {
   "cell_type": "code",
   "execution_count": 46,
   "id": "639901d9",
   "metadata": {},
   "outputs": [
    {
     "data": {
      "image/png": "[encoded data removed]"
     },
     "metadata": {},
     "output_type": "display_data"
    }
   ],
   "source": [
    "fig = px.imshow(salary_details_df,\n",
    "                aspect = \"auto\",\n",
    "                title = 'Доля вакансий без указания зарплаты в зависимости от опыта работы и графика')\n",
    "fig.update_layout(\n",
    "    yaxis_title_text = 'График работы',\n",
    "    legend = dict(title = \"Доля вакансий без указания зп\")\n",
    ")\n",
    "fig.show(\"png\")\n",
    "fig.write_html(\"plotly/no_slary_exprnce_schedule.html\")"
   ]
  },
  {
   "cell_type": "markdown",
   "id": "24253d8d",
   "metadata": {},
   "source": [
    "Бóльшая часть вакансий без указания зарплаты предполагает наличие опыта (прослеживается четкая закономерность - чем бóльшим опытом должен обладать кандидат, тем менее вероятно, что будет указана зарплата). Это говорит в пользу предположения, что работодатели, кооторый ищут более опытных кандидатов (и, соответственно, на более высокооплачиваемую должность), предпочитают не раскрывать уровень зарплаты.<br>\n",
    "Видна также зависимость от типа рабочего графика: наибольшее число вакансий с указанием зарплаты предполагают удаленную работу или сменный график. Данная закономерность требует дополнительного исследования"
   ]
  },
  {
   "cell_type": "code",
   "execution_count": 47,
   "id": "812c6189",
   "metadata": {},
   "outputs": [],
   "source": [
    "query = f'''\n",
    "SELECT\n",
    "  CASE\n",
    "    WHEN operating_areas_cnt<=3\n",
    "    THEN CAST(operating_areas_cnt AS TEXT)\n",
    "    ELSE '>3'\n",
    "  END AS operating_areas_cnt,\n",
    "  ind_cnt,\n",
    "  COUNT(DISTINCT id) AS emp_cnt\n",
    "FROM\n",
    "  (SELECT employers.id,\n",
    "    COUNT(DISTINCT vacancies.area_id)   AS operating_areas_cnt,\n",
    "    COUNT(DISTINCT emp_ind.industry_id) AS ind_cnt\n",
    "  FROM public.employers employers\n",
    "  LEFT JOIN public.vacancies vacancies\n",
    "  ON vacancies.employer_id = employers.id\n",
    "  LEFT JOIN public.employers_industries emp_ind\n",
    "  ON employers.id = emp_ind.employer_id\n",
    "  GROUP BY employers.id\n",
    "  ) T0\n",
    "GROUP BY 1, 2\n",
    "ORDER BY 2'''\n",
    "\n",
    "emp_details_df = pd.read_sql_query(query, connection)"
   ]
  },
  {
   "cell_type": "code",
   "execution_count": 48,
   "id": "91d0dde7",
   "metadata": {},
   "outputs": [
    {
     "data": {
      "image/png": "[encoded data removed]"
     },
     "metadata": {},
     "output_type": "display_data"
    }
   ],
   "source": [
    "df4 = emp_details_df.pivot_table(\n",
    "    values = 'emp_cnt',\n",
    "    index = 'ind_cnt',\n",
    "    columns = 'operating_areas_cnt',\n",
    "    fill_value = 0,\n",
    "    aggfunc = 'sum'\n",
    ")\n",
    "fig = px.imshow(df4, aspect = \"auto\", \\\n",
    "title = 'Количество работодателей в разрезе сфер деятельности и регионов присутствия')\n",
    "fig.update_layout(\n",
    "    xaxis_title_text = 'Количество регионов с вакансиями',\n",
    "    yaxis_title_text = 'Количество сфер деятельности'\n",
    ")\n",
    "fig.show(\"png\")\n",
    "fig.write_html(\"plotly/employers_ind_reg.html\")"
   ]
  },
  {
   "cell_type": "markdown",
   "id": "c83d4ab6",
   "metadata": {},
   "source": [
    "Как видно на тепловой карте, часть работодателей не разместила ни одной вакансии. Среди работодателей с вакансиями видна закономерность: по мере увеличения охвата регионального пристутствия уменьшается число работодателей.\n",
    "\n",
    "Аналогичная ситуация имеет место при анализе числа работодателей с точки зрения сфер деятельности: у части сфера деятельности не указана, а среди остальных у большинства указана 1 сфера, и по мере увеличения числа сфер деятельности уменьшается число работодателей.\n",
    "\n",
    "Таким образом, большинство компаний представлено в 1 регионе и сфокусировано на одной отрасли. Чем шире география и отраслевая диверсификация, тем меньше количество работодателей."
   ]
  },
  {
   "cell_type": "markdown",
   "id": "04966e40-3bc3-4dc8-9ba2-e80580ce3abc",
   "metadata": {
    "id": "04966e40-3bc3-4dc8-9ba2-e80580ce3abc"
   },
   "source": [
    "***"
   ]
  },
  {
   "cell_type": "markdown",
   "id": "70ef37de",
   "metadata": {
    "id": "aGGyER-yt4SR"
   },
   "source": [
    "*Часть работодателей в настоящий момент не предлагает вакансий. У существенного количества не указана сфера деятельности или зарплата в описании вакансии (чаще всего такие вакансии представлены в крупных городах). Среди тех, у кого указана сфера деятельности и имеются вакансии, большинство компаний ведет деятельность в одном регионе и в одной отрасли.*"
   ]
  },
  {
   "cell_type": "markdown",
   "id": "b1ef156a-efcb-49ce-bb23-90763e7f35b2",
   "metadata": {
    "id": "b1ef156a-efcb-49ce-bb23-90763e7f35b2",
    "tags": []
   },
   "source": [
    "# Юнит 6. Предметный анализ"
   ]
  },
  {
   "cell_type": "markdown",
   "id": "b9cd50a0-992d-4988-8463-2b2b1c4629b4",
   "metadata": {
    "id": "b9cd50a0-992d-4988-8463-2b2b1c4629b4"
   },
   "source": [
    "1. Сколько вакансий имеет отношение к данным?\n",
    "\n",
    "Считаем, что вакансия имеет отношение к данным, если в её названии содержатся слова 'data' или 'данн'.\n",
    "\n",
    "*Подсказка: Обратите внимание, что названия вакансий могут быть написаны в любом регистре.* \n"
   ]
  },
  {
   "cell_type": "code",
   "execution_count": 49,
   "id": "54ab0e50-c0f1-47cc-a54b-bc5c8bc363f9",
   "metadata": {
    "id": "54ab0e50-c0f1-47cc-a54b-bc5c8bc363f9"
   },
   "outputs": [],
   "source": [
    "query = f'''SELECT COUNT(*) AS cnt\n",
    "            FROM public.vacancies\n",
    "            WHERE LOWER(name) LIKE ('%%data%%')\n",
    "            OR LOWER(name) LIKE ('%%данн%%')\n",
    "         '''\n",
    "\n",
    "df = pd.read_sql_query(query, connection)"
   ]
  },
  {
   "cell_type": "code",
   "execution_count": 50,
   "id": "9F1meAqsuUjd",
   "metadata": {
    "id": "9F1meAqsuUjd"
   },
   "outputs": [
    {
     "name": "stdout",
     "output_type": "stream",
     "text": [
      "Кол-во вакансий, имеющих отношение к данным: 1771\n"
     ]
    }
   ],
   "source": [
    "# результат запроса\n",
    "print('Кол-во вакансий, имеющих отношение к данным:', df['cnt'][0])"
   ]
  },
  {
   "cell_type": "markdown",
   "id": "4dea20cb-a36b-474a-a0b9-e08e8e3857a5",
   "metadata": {
    "id": "4dea20cb-a36b-474a-a0b9-e08e8e3857a5"
   },
   "source": [
    "2. Сколько есть подходящих вакансий для начинающего дата-сайентиста? \n",
    "Будем считать вакансиями для дата-сайентистов такие, в названии которых есть хотя бы одно из следующих сочетаний:\n",
    "* 'data scientist'\n",
    "* 'data science'\n",
    "* 'исследователь данных'\n",
    "* 'ML' (здесь не нужно брать вакансии по HTML)\n",
    "* 'machine learning'\n",
    "* 'машинн%обучен%'\n",
    "\n",
    "** В следующих заданиях мы продолжим работать с вакансиями по этому условию.*\n",
    "\n",
    "Считаем вакансиями для специалистов уровня Junior следующие:\n",
    "* в названии есть слово 'junior' *или*\n",
    "* требуемый опыт — Нет опыта *или*\n",
    "* тип трудоустройства — Стажировка.\n",
    " "
   ]
  },
  {
   "cell_type": "code",
   "execution_count": 51,
   "id": "9c61b3c0-bb66-46c9-ae1e-81d3f5752b4a",
   "metadata": {
    "id": "9c61b3c0-bb66-46c9-ae1e-81d3f5752b4a"
   },
   "outputs": [],
   "source": [
    "# текст запроса\n",
    "query = f'''SELECT COUNT(*) AS cnt\n",
    "            FROM public.vacancies\n",
    "            WHERE (LOWER(name) LIKE '%%data scientist%%'\n",
    "              OR LOWER(name) LIKE '%%data science%%'\n",
    "              OR LOWER(name) LIKE '%%исследователь данных%%'\n",
    "              OR name LIKE '%%ML%%'\n",
    "              OR LOWER(name) LIKE '%%machine learning%%'\n",
    "              OR LOWER(name) LIKE '%%машинн%%обучен%%')\n",
    "              AND NOT(LOWER(name) LIKE '%%html%%')\n",
    "              AND (LOWER(name) LIKE '%%junior%%'\n",
    "              OR experience = 'Нет опыта'\n",
    "              OR employment = 'Стажировка')\n",
    "         '''\n",
    "\n",
    "df = pd.read_sql_query(query, connection)"
   ]
  },
  {
   "cell_type": "code",
   "execution_count": 52,
   "id": "ZNM-LLYuu1dj",
   "metadata": {
    "id": "ZNM-LLYuu1dj",
    "scrolled": false
   },
   "outputs": [
    {
     "name": "stdout",
     "output_type": "stream",
     "text": [
      "Кол-во вакансий для начинающих дата-сайентистов: 51\n"
     ]
    }
   ],
   "source": [
    "# результат запроса\n",
    "print('Кол-во вакансий для начинающих дата-сайентистов:', df['cnt'][0])"
   ]
  },
  {
   "cell_type": "markdown",
   "id": "eedceb80-c5ca-480e-b27a-278dfb8b4438",
   "metadata": {
    "id": "eedceb80-c5ca-480e-b27a-278dfb8b4438"
   },
   "source": [
    "3. Сколько есть вакансий для DS, в которых в качестве ключевого навыка указан SQL или postgres?\n",
    "\n",
    "** Критерии для отнесения вакансии к DS указаны в предыдущем задании.*"
   ]
  },
  {
   "cell_type": "code",
   "execution_count": 53,
   "id": "69621713-0cc5-4f1b-a1d7-bb144fa6148c",
   "metadata": {
    "id": "69621713-0cc5-4f1b-a1d7-bb144fa6148c"
   },
   "outputs": [],
   "source": [
    "# текст запроса\n",
    "query = f'''SELECT COUNT(*) AS cnt\n",
    "            FROM public.vacancies\n",
    "            WHERE (LOWER(name) LIKE '%%data scientist%%'\n",
    "              OR LOWER(name) LIKE '%%data science%%'\n",
    "              OR LOWER(name) LIKE '%%исследователь данных%%'\n",
    "              OR name LIKE '%%ML%%'\n",
    "              OR LOWER(name) LIKE '%%machine learning%%'\n",
    "              OR LOWER(name) LIKE '%%машинн%%обучен%%')\n",
    "              AND NOT(LOWER(name) LIKE '%%html%%')\n",
    "              AND (LOWER(key_skills) LIKE '%%sql%%'\n",
    "              OR LOWER(key_skills) LIKE '%%postgres%%')\n",
    "         '''\n",
    "\n",
    "df = pd.read_sql_query(query, connection)"
   ]
  },
  {
   "cell_type": "code",
   "execution_count": 54,
   "id": "alA8WEAAvGdf",
   "metadata": {
    "id": "alA8WEAAvGdf"
   },
   "outputs": [
    {
     "name": "stdout",
     "output_type": "stream",
     "text": [
      "Кол-во вакансий для дата-сайентистов с SQL/Postgres: 201\n"
     ]
    }
   ],
   "source": [
    "# результат запроса\n",
    "print('Кол-во вакансий для дата-сайентистов с SQL/Postgres:', df['cnt'][0])"
   ]
  },
  {
   "cell_type": "markdown",
   "id": "1be1e9c6-37cf-4a5f-bfeb-04cab799dc80",
   "metadata": {
    "id": "1be1e9c6-37cf-4a5f-bfeb-04cab799dc80"
   },
   "source": [
    "4. Проверьте, насколько популярен Python в требованиях работодателей к DS.Для этого вычислите количество вакансий, в которых в качестве ключевого навыка указан Python.\n",
    "\n",
    "** Это можно сделать помощью запроса, аналогичного предыдущему.*"
   ]
  },
  {
   "cell_type": "code",
   "execution_count": 55,
   "id": "0036a355-9ccf-4564-8b01-73d8194297e7",
   "metadata": {
    "id": "0036a355-9ccf-4564-8b01-73d8194297e7"
   },
   "outputs": [],
   "source": [
    "# текст запроса\n",
    "query = f'''SELECT COUNT(*) AS cnt\n",
    "            FROM public.vacancies\n",
    "            WHERE (LOWER(name) LIKE '%%data scientist%%'\n",
    "              OR LOWER(name) LIKE '%%data science%%'\n",
    "              OR LOWER(name) LIKE '%%исследователь данных%%'\n",
    "              OR name LIKE '%%ML%%'\n",
    "              OR LOWER(name) LIKE '%%machine learning%%'\n",
    "              OR LOWER(name) LIKE '%%машинн%%обучен%%')\n",
    "              AND NOT(LOWER(name) LIKE '%%html%%')\n",
    "              AND (LOWER(key_skills) LIKE '%%python%%')\n",
    "         '''\n",
    "\n",
    "df = pd.read_sql_query(query, connection)"
   ]
  },
  {
   "cell_type": "code",
   "execution_count": 56,
   "id": "1i-5WyucvQ6v",
   "metadata": {
    "id": "1i-5WyucvQ6v"
   },
   "outputs": [
    {
     "name": "stdout",
     "output_type": "stream",
     "text": [
      "Кол-во вакансий для дата-сайентистов с Python: 351\n"
     ]
    }
   ],
   "source": [
    "# результат запроса\n",
    "print('Кол-во вакансий для дата-сайентистов с Python:', df['cnt'][0])"
   ]
  },
  {
   "cell_type": "markdown",
   "id": "ec3c8db7-fa21-4a41-a994-1af63742a642",
   "metadata": {
    "id": "ec3c8db7-fa21-4a41-a994-1af63742a642"
   },
   "source": [
    "5. Сколько ключевых навыков в среднем указывают в вакансиях для DS?\n",
    "Ответ округлите до двух знаков после точки-разделителя."
   ]
  },
  {
   "cell_type": "code",
   "execution_count": 57,
   "id": "949132bc-d5b6-4611-8218-0b9a504d74f4",
   "metadata": {
    "id": "949132bc-d5b6-4611-8218-0b9a504d74f4"
   },
   "outputs": [],
   "source": [
    "# текст запроса\n",
    "query = f'''SELECT \n",
    "            ROUND(SUM(LENGTH(key_skills)-LENGTH(REPLACE(key_skills, CHR(9), ''))+1)::NUMERIC/COUNT(id), 2) \n",
    "              AS key_skills_per_vacancy\n",
    "            FROM public.vacancies\n",
    "            WHERE (LOWER(name) LIKE '%%data scientist%%'\n",
    "              OR LOWER(name) LIKE '%%data science%%'\n",
    "              OR LOWER(name) LIKE '%%исследователь данных%%'\n",
    "              OR name LIKE '%%ML%%'\n",
    "              OR LOWER(name) LIKE '%%machine learning%%'\n",
    "              OR LOWER(name) LIKE '%%машинн%%обучен%%')\n",
    "              AND NOT(LOWER(name) LIKE '%%html%%')\n",
    "              AND key_skills IS NOT NULL\n",
    "         '''\n",
    "\n",
    "df = pd.read_sql_query(query, connection)"
   ]
  },
  {
   "cell_type": "code",
   "execution_count": 58,
   "id": "a3V24Tvmviqk",
   "metadata": {
    "id": "a3V24Tvmviqk"
   },
   "outputs": [
    {
     "name": "stdout",
     "output_type": "stream",
     "text": [
      "Кол-во ключевых навыков на вакансию: 6.41\n"
     ]
    }
   ],
   "source": [
    "# результат запроса\n",
    "print('Кол-во ключевых навыков на вакансию:', df['key_skills_per_vacancy'][0])"
   ]
  },
  {
   "cell_type": "markdown",
   "id": "1041c17a-ca8f-4543-a0ca-32778914fb00",
   "metadata": {
    "id": "1041c17a-ca8f-4543-a0ca-32778914fb00"
   },
   "source": [
    "6. Напишите запрос, позволяющий вычислить, какую зарплату для DS в **среднем** указывают для каждого типа требуемого опыта (уникальное значение из поля *experience*). \n",
    "\n",
    "При решении задачи примите во внимание следующее:\n",
    "1. Рассматриваем только вакансии, у которых заполнено хотя бы одно из двух полей с зарплатой.\n",
    "2. Если заполнены оба поля с зарплатой, то считаем зарплату по каждой вакансии как сумму двух полей, делённую на 2. Если заполнено только одно из полей, то его и считаем зарплатой по вакансии.\n",
    "3. Если в расчётах участвует null, в результате он тоже даст null (посмотрите, что возвращает запрос select 1 + null). Чтобы избежать этой ситуацию, мы воспользуемся функцией [coalesce](https://postgrespro.ru/docs/postgresql/9.5/functions-conditional#functions-coalesce-nvl-ifnull), которая заменит null на значение, которое мы передадим. Например, посмотрите, что возвращает запрос `select 1 + coalesce(null, 0)`\n",
    "\n",
    "Выясните, на какую зарплату в среднем может рассчитывать дата-сайентист с опытом работы от 3 до 6 лет. Результат округлите до целого числа. "
   ]
  },
  {
   "cell_type": "code",
   "execution_count": 59,
   "id": "6a743d39-5204-48d3-8271-b9f88e68d40e",
   "metadata": {
    "id": "6a743d39-5204-48d3-8271-b9f88e68d40e"
   },
   "outputs": [],
   "source": [
    "# текст запроса\n",
    "query = f'''SELECT experience,\n",
    "              ROUND(AVG(COALESCE(COALESCE((salary_from+salary_to)::NUMERIC/2, salary_from), salary_to)), 0)\n",
    "                AS avg_salary\n",
    "            FROM public.vacancies\n",
    "            WHERE (LOWER(name) LIKE '%%data scientist%%'\n",
    "            OR LOWER(name) LIKE '%%data science%%'\n",
    "            OR LOWER(name) LIKE '%%исследователь данных%%'\n",
    "            OR name LIKE '%%ML%%'\n",
    "            OR LOWER(name) LIKE '%%machine learning%%'\n",
    "            OR LOWER(name) LIKE '%%машинн%%обучен%%')\n",
    "            AND NOT(LOWER(name) LIKE '%%html%%')\n",
    "            AND NOT(COALESCE(salary_from, salary_to) IS NULL)\n",
    "            GROUP BY 1\n",
    "         '''\n",
    "\n",
    "df = pd.read_sql_query(query, connection)"
   ]
  },
  {
   "cell_type": "code",
   "execution_count": 60,
   "id": "aRIJ0mZEwU1_",
   "metadata": {
    "id": "aRIJ0mZEwU1_"
   },
   "outputs": [
    {
     "data": {
      "text/html": [
       "<div>\n",
       "<style scoped>\n",
       "    .dataframe tbody tr th:only-of-type {\n",
       "        vertical-align: middle;\n",
       "    }\n",
       "\n",
       "    .dataframe tbody tr th {\n",
       "        vertical-align: top;\n",
       "    }\n",
       "\n",
       "    .dataframe thead th {\n",
       "        text-align: right;\n",
       "    }\n",
       "</style>\n",
       "<table border=\"1\" class=\"dataframe\">\n",
       "  <thead>\n",
       "    <tr style=\"text-align: right;\">\n",
       "      <th></th>\n",
       "      <th>experience</th>\n",
       "      <th>avg_salary</th>\n",
       "    </tr>\n",
       "  </thead>\n",
       "  <tbody>\n",
       "    <tr>\n",
       "      <th>0</th>\n",
       "      <td>Нет опыта</td>\n",
       "      <td>74643.0</td>\n",
       "    </tr>\n",
       "    <tr>\n",
       "      <th>1</th>\n",
       "      <td>От 1 года до 3 лет</td>\n",
       "      <td>139675.0</td>\n",
       "    </tr>\n",
       "    <tr>\n",
       "      <th>2</th>\n",
       "      <td>От 3 до 6 лет</td>\n",
       "      <td>243115.0</td>\n",
       "    </tr>\n",
       "  </tbody>\n",
       "</table>\n",
       "</div>"
      ],
      "text/plain": [
       "           experience  avg_salary\n",
       "0           Нет опыта     74643.0\n",
       "1  От 1 года до 3 лет    139675.0\n",
       "2       От 3 до 6 лет    243115.0"
      ]
     },
     "execution_count": 60,
     "metadata": {},
     "output_type": "execute_result"
    }
   ],
   "source": [
    "# результат запроса\n",
    "df"
   ]
  },
  {
   "cell_type": "markdown",
   "id": "6a7892b4-4113-4746-adce-18aa2844f18e",
   "metadata": {
    "id": "6a7892b4-4113-4746-adce-18aa2844f18e"
   },
   "source": [
    "***"
   ]
  },
  {
   "cell_type": "markdown",
   "id": "d72c17ae",
   "metadata": {
    "id": "UjLWUptVwY1o"
   },
   "source": [
    "*Число вакансий для дата-сайентистов относительно невелико среди общего числа вакансий. Тем не менее, предлагаемые зарплаты выше, особенно это заметно для кандидатов с опытом от 3 лет.*\n",
    "\n",
    "*Среди требований обычно присутствует несколько навыков одновременно, при этом, знание Python примерно в 1,5 раза более востребовано, чем знание SQL или Postgres*"
   ]
  },
  {
   "cell_type": "markdown",
   "id": "c0ED6fh7wiBT",
   "metadata": {
    "id": "c0ED6fh7wiBT"
   },
   "source": [
    "# Общий вывод по проекту"
   ]
  },
  {
   "cell_type": "markdown",
   "id": "11084e29",
   "metadata": {
    "id": "h9B3BL-wwj18"
   },
   "source": [
    "*Анализ базы данных с вакансиями показывает, что как работодатели, так и их вакансии имеют широкий охват по регионам присутствия и сферам деятельности. Тем не менее, прослеживается закономерность, связанная с концентрацией вакансий в крупных городах, в них же выше предлагаемые зарплаты (при этом необходимо учитывать, что примерно у половины вакансий зарплата не указана).*\n",
    "\n",
    "*У части работодателей вакансии представлены в нескольких регионах, однако, большинство фокусируется на одном регионе и на одной отрасли.*\n",
    "\n",
    "*Число вакансий, связанных с Data Science, относительно невелико, менее 10%, однако в данной сфере предлагаются более высокие зарплаты.*"
   ]
  },
  {
   "cell_type": "code",
   "execution_count": 61,
   "id": "63b594e0",
   "metadata": {},
   "outputs": [],
   "source": [
    "connection.close()\n",
    "engine.dispose()"
   ]
  }
 ],
 "metadata": {
  "colab": {
   "collapsed_sections": [
    "8d62a9f3-f64e-4fe7-bdac-c4dffa16155e"
   ],
   "provenance": []
  },
  "kernelspec": {
   "display_name": "Python 3 (ipykernel)",
   "language": "python",
   "name": "python3"
  },
  "language_info": {
   "codemirror_mode": {
    "name": "ipython",
    "version": 3
   },
   "file_extension": ".py",
   "mimetype": "text/x-python",
   "name": "python",
   "nbconvert_exporter": "python",
   "pygments_lexer": "ipython3",
   "version": "3.9.13"
  }
 },
 "nbformat": 4,
 "nbformat_minor": 5
}
